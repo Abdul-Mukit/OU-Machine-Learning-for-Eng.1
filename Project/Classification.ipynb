{
 "cells": [
  {
   "cell_type": "code",
   "execution_count": 1,
   "metadata": {},
   "outputs": [],
   "source": [
    "# # Optional Working Directory Changing. I was having problems with directory.\n",
    "# import os\n",
    "# print(os.getcwd())\n",
    "# os.chdir(\"Project\")\n",
    "# print(os.getcwd())"
   ]
  },
  {
   "cell_type": "code",
   "execution_count": 2,
   "metadata": {},
   "outputs": [],
   "source": [
    "#### Import Libraries ####\n",
    "import pandas as pd\n",
    "import graphviz\n",
    "import numpy as np\n",
    "from sklearn.metrics import confusion_matrix\n",
    "import random\n",
    "import matplotlib.pyplot as plt\n",
    "random.seed(420)"
   ]
  },
  {
   "cell_type": "markdown",
   "metadata": {},
   "source": [
    "# Data Preprocessing\n",
    "___\n",
    "In this notebook, I attempt to do create models to classify between DPN+ and DPN- classes. In the DemographicEDA notebook I showed that there are 43 patients with DPN+ and 46 patients with for DPN-.\n",
    "\n",
    "### 24 Hour Recordings to 5 Minute Recordings\n",
    "For each of these patients we have approximately 22-24 hour of Holter ECG signal. Our objective is to classify a patient using ECG signal of 5 minutes length. Thus, we divided each of the Holter ECG signals into small recordings of 5 minutes length. So we get approximately (43+46)*24*60/5 = 25632 signals. In reality we got 24932 signls of 5 minutes length. Each short signal was labelled according to its class - DPN+ or DPN-."
   ]
  },
  {
   "cell_type": "code",
   "execution_count": 3,
   "metadata": {},
   "outputs": [],
   "source": [
    "#### Load and split data ####\n",
    "data = pd.read_excel('DPN_raw_features.xlsx', encoding = \"ISO-8859-1\") # Importing Dataset"
   ]
  },
  {
   "cell_type": "code",
   "execution_count": 4,
   "metadata": {},
   "outputs": [
    {
     "name": "stdout",
     "output_type": "stream",
     "text": [
      "Number of 5 minute ECG records or Instances = 24932\n",
      "\n",
      " DPN Label Count:\n",
      "Negative    13002\n",
      "Positive    11930\n",
      "Name: DPN, dtype: int64\n"
     ]
    }
   ],
   "source": [
    "print('Number of 5 minute ECG records or Instances = %d' % (data.shape[0]))\n",
    "print('\\n DPN Label Count:')\n",
    "print(data['DPN'].value_counts())\n",
    "\n"
   ]
  },
  {
   "cell_type": "markdown",
   "metadata": {},
   "source": [
    "### Extracting HRV Features from each of the 5 minute recordings\n",
    "Now for using machine learning to classify these signals I needed to extract features from each of these 5m recordings. For this I used traditional Heart Rate Variability ([HRV](https://en.wikipedia.org/wiki/Heart_rate_variability)) features. In addition I also extracted multi-lag Tone-Entropy features which showed good potential in [recent works](https://link.springer.com/article/10.1007/s11517-012-1022-5).  \n",
    "I acquired 19 HRV features, and 20 Tone-Entropy (from lag 1-10) features.  \n",
    "So, now, for each 5m signal I have 39 features describing it."
   ]
  },
  {
   "cell_type": "code",
   "execution_count": 5,
   "metadata": {},
   "outputs": [
    {
     "name": "stdout",
     "output_type": "stream",
     "text": [
      "Number of columns = 40\n",
      "\n",
      "\n",
      "\n",
      "Data Sample:\n"
     ]
    },
    {
     "data": {
      "text/html": [
       "<div>\n",
       "<style scoped>\n",
       "    .dataframe tbody tr th:only-of-type {\n",
       "        vertical-align: middle;\n",
       "    }\n",
       "\n",
       "    .dataframe tbody tr th {\n",
       "        vertical-align: top;\n",
       "    }\n",
       "\n",
       "    .dataframe thead th {\n",
       "        text-align: right;\n",
       "    }\n",
       "</style>\n",
       "<table border=\"1\" class=\"dataframe\">\n",
       "  <thead>\n",
       "    <tr style=\"text-align: right;\">\n",
       "      <th></th>\n",
       "      <th>mean_rr</th>\n",
       "      <th>SDNN</th>\n",
       "      <th>SDANN</th>\n",
       "      <th>NN50</th>\n",
       "      <th>pNN50</th>\n",
       "      <th>RMSSD</th>\n",
       "      <th>nLF</th>\n",
       "      <th>nHF</th>\n",
       "      <th>LFHF</th>\n",
       "      <th>SD1</th>\n",
       "      <th>...</th>\n",
       "      <th>Entropy2</th>\n",
       "      <th>Entropy3</th>\n",
       "      <th>Entropy4</th>\n",
       "      <th>Entropy5</th>\n",
       "      <th>Entropy6</th>\n",
       "      <th>Entropy7</th>\n",
       "      <th>Entropy8</th>\n",
       "      <th>Entropy9</th>\n",
       "      <th>Entropy10</th>\n",
       "      <th>DPN</th>\n",
       "    </tr>\n",
       "  </thead>\n",
       "  <tbody>\n",
       "    <tr>\n",
       "      <th>0</th>\n",
       "      <td>698.1</td>\n",
       "      <td>30.6</td>\n",
       "      <td>21.8</td>\n",
       "      <td>21</td>\n",
       "      <td>4.9</td>\n",
       "      <td>33.6</td>\n",
       "      <td>0.643</td>\n",
       "      <td>0.357</td>\n",
       "      <td>1.803</td>\n",
       "      <td>23.8</td>\n",
       "      <td>...</td>\n",
       "      <td>3.752868</td>\n",
       "      <td>3.825854</td>\n",
       "      <td>3.997090</td>\n",
       "      <td>3.996521</td>\n",
       "      <td>4.141725</td>\n",
       "      <td>4.180629</td>\n",
       "      <td>4.203164</td>\n",
       "      <td>4.212080</td>\n",
       "      <td>4.184024</td>\n",
       "      <td>Negative</td>\n",
       "    </tr>\n",
       "    <tr>\n",
       "      <th>1</th>\n",
       "      <td>690.3</td>\n",
       "      <td>15.3</td>\n",
       "      <td>9.1</td>\n",
       "      <td>0</td>\n",
       "      <td>0.0</td>\n",
       "      <td>9.6</td>\n",
       "      <td>0.729</td>\n",
       "      <td>0.271</td>\n",
       "      <td>2.689</td>\n",
       "      <td>6.8</td>\n",
       "      <td>...</td>\n",
       "      <td>2.933731</td>\n",
       "      <td>2.855522</td>\n",
       "      <td>3.038573</td>\n",
       "      <td>3.140313</td>\n",
       "      <td>3.084641</td>\n",
       "      <td>3.265319</td>\n",
       "      <td>3.230151</td>\n",
       "      <td>3.220461</td>\n",
       "      <td>3.346339</td>\n",
       "      <td>Negative</td>\n",
       "    </tr>\n",
       "    <tr>\n",
       "      <th>2</th>\n",
       "      <td>687.1</td>\n",
       "      <td>15.1</td>\n",
       "      <td>10.4</td>\n",
       "      <td>1</td>\n",
       "      <td>0.2</td>\n",
       "      <td>9.4</td>\n",
       "      <td>0.811</td>\n",
       "      <td>0.189</td>\n",
       "      <td>4.277</td>\n",
       "      <td>6.6</td>\n",
       "      <td>...</td>\n",
       "      <td>2.536956</td>\n",
       "      <td>2.518933</td>\n",
       "      <td>2.710379</td>\n",
       "      <td>2.857183</td>\n",
       "      <td>2.857072</td>\n",
       "      <td>3.017293</td>\n",
       "      <td>3.084169</td>\n",
       "      <td>3.069430</td>\n",
       "      <td>3.130945</td>\n",
       "      <td>Negative</td>\n",
       "    </tr>\n",
       "    <tr>\n",
       "      <th>3</th>\n",
       "      <td>684.4</td>\n",
       "      <td>12.8</td>\n",
       "      <td>8.9</td>\n",
       "      <td>0</td>\n",
       "      <td>0.0</td>\n",
       "      <td>7.7</td>\n",
       "      <td>0.767</td>\n",
       "      <td>0.233</td>\n",
       "      <td>3.288</td>\n",
       "      <td>5.5</td>\n",
       "      <td>...</td>\n",
       "      <td>2.613913</td>\n",
       "      <td>2.533615</td>\n",
       "      <td>2.673411</td>\n",
       "      <td>2.896121</td>\n",
       "      <td>2.892050</td>\n",
       "      <td>2.954135</td>\n",
       "      <td>3.015810</td>\n",
       "      <td>3.074099</td>\n",
       "      <td>2.993906</td>\n",
       "      <td>Negative</td>\n",
       "    </tr>\n",
       "    <tr>\n",
       "      <th>4</th>\n",
       "      <td>679.1</td>\n",
       "      <td>14.9</td>\n",
       "      <td>10.0</td>\n",
       "      <td>0</td>\n",
       "      <td>0.0</td>\n",
       "      <td>9.3</td>\n",
       "      <td>0.841</td>\n",
       "      <td>0.159</td>\n",
       "      <td>5.293</td>\n",
       "      <td>6.6</td>\n",
       "      <td>...</td>\n",
       "      <td>2.706271</td>\n",
       "      <td>2.750505</td>\n",
       "      <td>2.904154</td>\n",
       "      <td>3.028967</td>\n",
       "      <td>3.069421</td>\n",
       "      <td>3.032042</td>\n",
       "      <td>3.154665</td>\n",
       "      <td>3.153951</td>\n",
       "      <td>3.154654</td>\n",
       "      <td>Negative</td>\n",
       "    </tr>\n",
       "  </tbody>\n",
       "</table>\n",
       "<p>5 rows × 40 columns</p>\n",
       "</div>"
      ],
      "text/plain": [
       "   mean_rr  SDNN  SDANN  NN50  pNN50  RMSSD    nLF    nHF   LFHF   SD1  \\\n",
       "0    698.1  30.6   21.8    21    4.9   33.6  0.643  0.357  1.803  23.8   \n",
       "1    690.3  15.3    9.1     0    0.0    9.6  0.729  0.271  2.689   6.8   \n",
       "2    687.1  15.1   10.4     1    0.2    9.4  0.811  0.189  4.277   6.6   \n",
       "3    684.4  12.8    8.9     0    0.0    7.7  0.767  0.233  3.288   5.5   \n",
       "4    679.1  14.9   10.0     0    0.0    9.3  0.841  0.159  5.293   6.6   \n",
       "\n",
       "     ...     Entropy2  Entropy3  Entropy4  Entropy5  Entropy6  Entropy7  \\\n",
       "0    ...     3.752868  3.825854  3.997090  3.996521  4.141725  4.180629   \n",
       "1    ...     2.933731  2.855522  3.038573  3.140313  3.084641  3.265319   \n",
       "2    ...     2.536956  2.518933  2.710379  2.857183  2.857072  3.017293   \n",
       "3    ...     2.613913  2.533615  2.673411  2.896121  2.892050  2.954135   \n",
       "4    ...     2.706271  2.750505  2.904154  3.028967  3.069421  3.032042   \n",
       "\n",
       "   Entropy8  Entropy9  Entropy10       DPN  \n",
       "0  4.203164  4.212080   4.184024  Negative  \n",
       "1  3.230151  3.220461   3.346339  Negative  \n",
       "2  3.084169  3.069430   3.130945  Negative  \n",
       "3  3.015810  3.074099   2.993906  Negative  \n",
       "4  3.154665  3.153951   3.154654  Negative  \n",
       "\n",
       "[5 rows x 40 columns]"
      ]
     },
     "execution_count": 5,
     "metadata": {},
     "output_type": "execute_result"
    }
   ],
   "source": [
    "print('Number of columns = %d\\n' % (data.shape[1]))\n",
    "print('\\n\\nData Sample:')\n",
    "data.head()"
   ]
  },
  {
   "cell_type": "code",
   "execution_count": 6,
   "metadata": {},
   "outputs": [
    {
     "name": "stdout",
     "output_type": "stream",
     "text": [
      "Statistical analysis:\n"
     ]
    },
    {
     "data": {
      "text/html": [
       "<div>\n",
       "<style scoped>\n",
       "    .dataframe tbody tr th:only-of-type {\n",
       "        vertical-align: middle;\n",
       "    }\n",
       "\n",
       "    .dataframe tbody tr th {\n",
       "        vertical-align: top;\n",
       "    }\n",
       "\n",
       "    .dataframe thead th {\n",
       "        text-align: right;\n",
       "    }\n",
       "</style>\n",
       "<table border=\"1\" class=\"dataframe\">\n",
       "  <thead>\n",
       "    <tr style=\"text-align: right;\">\n",
       "      <th></th>\n",
       "      <th>mean_rr</th>\n",
       "      <th>SDNN</th>\n",
       "      <th>SDANN</th>\n",
       "      <th>NN50</th>\n",
       "      <th>pNN50</th>\n",
       "      <th>RMSSD</th>\n",
       "      <th>nLF</th>\n",
       "      <th>nHF</th>\n",
       "      <th>LFHF</th>\n",
       "      <th>SD1</th>\n",
       "      <th>...</th>\n",
       "      <th>Entropy1</th>\n",
       "      <th>Entropy2</th>\n",
       "      <th>Entropy3</th>\n",
       "      <th>Entropy4</th>\n",
       "      <th>Entropy5</th>\n",
       "      <th>Entropy6</th>\n",
       "      <th>Entropy7</th>\n",
       "      <th>Entropy8</th>\n",
       "      <th>Entropy9</th>\n",
       "      <th>Entropy10</th>\n",
       "    </tr>\n",
       "  </thead>\n",
       "  <tbody>\n",
       "    <tr>\n",
       "      <th>count</th>\n",
       "      <td>24932.000000</td>\n",
       "      <td>24932.000000</td>\n",
       "      <td>24932.000000</td>\n",
       "      <td>24932.000000</td>\n",
       "      <td>24932.000000</td>\n",
       "      <td>24932.000000</td>\n",
       "      <td>24932.000000</td>\n",
       "      <td>24932.000000</td>\n",
       "      <td>24932.000000</td>\n",
       "      <td>24932.000000</td>\n",
       "      <td>...</td>\n",
       "      <td>24932.000000</td>\n",
       "      <td>24932.000000</td>\n",
       "      <td>24932.000000</td>\n",
       "      <td>24932.000000</td>\n",
       "      <td>24932.000000</td>\n",
       "      <td>24932.000000</td>\n",
       "      <td>24932.000000</td>\n",
       "      <td>24932.000000</td>\n",
       "      <td>24932.000000</td>\n",
       "      <td>24932.000000</td>\n",
       "    </tr>\n",
       "    <tr>\n",
       "      <th>mean</th>\n",
       "      <td>762.752467</td>\n",
       "      <td>38.811427</td>\n",
       "      <td>24.998853</td>\n",
       "      <td>15.434141</td>\n",
       "      <td>4.427683</td>\n",
       "      <td>22.273712</td>\n",
       "      <td>0.629895</td>\n",
       "      <td>0.370105</td>\n",
       "      <td>2.761248</td>\n",
       "      <td>15.770817</td>\n",
       "      <td>...</td>\n",
       "      <td>3.134663</td>\n",
       "      <td>3.401855</td>\n",
       "      <td>3.504165</td>\n",
       "      <td>3.610449</td>\n",
       "      <td>3.741673</td>\n",
       "      <td>3.840686</td>\n",
       "      <td>3.910112</td>\n",
       "      <td>3.955276</td>\n",
       "      <td>3.987818</td>\n",
       "      <td>4.022240</td>\n",
       "    </tr>\n",
       "    <tr>\n",
       "      <th>std</th>\n",
       "      <td>138.508934</td>\n",
       "      <td>25.324197</td>\n",
       "      <td>16.306258</td>\n",
       "      <td>29.152626</td>\n",
       "      <td>9.069856</td>\n",
       "      <td>17.466006</td>\n",
       "      <td>0.192470</td>\n",
       "      <td>0.192470</td>\n",
       "      <td>2.666554</td>\n",
       "      <td>12.369477</td>\n",
       "      <td>...</td>\n",
       "      <td>0.629509</td>\n",
       "      <td>0.699878</td>\n",
       "      <td>0.702476</td>\n",
       "      <td>0.714156</td>\n",
       "      <td>0.720487</td>\n",
       "      <td>0.713850</td>\n",
       "      <td>0.712500</td>\n",
       "      <td>0.711778</td>\n",
       "      <td>0.710766</td>\n",
       "      <td>0.707031</td>\n",
       "    </tr>\n",
       "    <tr>\n",
       "      <th>min</th>\n",
       "      <td>418.900000</td>\n",
       "      <td>2.900000</td>\n",
       "      <td>1.600000</td>\n",
       "      <td>0.000000</td>\n",
       "      <td>0.000000</td>\n",
       "      <td>2.500000</td>\n",
       "      <td>0.027000</td>\n",
       "      <td>0.017000</td>\n",
       "      <td>0.028000</td>\n",
       "      <td>1.800000</td>\n",
       "      <td>...</td>\n",
       "      <td>1.514071</td>\n",
       "      <td>1.407686</td>\n",
       "      <td>1.238901</td>\n",
       "      <td>1.134970</td>\n",
       "      <td>1.392400</td>\n",
       "      <td>1.171442</td>\n",
       "      <td>1.095795</td>\n",
       "      <td>1.368693</td>\n",
       "      <td>1.023037</td>\n",
       "      <td>1.059047</td>\n",
       "    </tr>\n",
       "    <tr>\n",
       "      <th>25%</th>\n",
       "      <td>659.900000</td>\n",
       "      <td>21.500000</td>\n",
       "      <td>14.100000</td>\n",
       "      <td>0.000000</td>\n",
       "      <td>0.000000</td>\n",
       "      <td>11.100000</td>\n",
       "      <td>0.506000</td>\n",
       "      <td>0.218000</td>\n",
       "      <td>1.024750</td>\n",
       "      <td>7.900000</td>\n",
       "      <td>...</td>\n",
       "      <td>2.674102</td>\n",
       "      <td>2.903266</td>\n",
       "      <td>3.007499</td>\n",
       "      <td>3.097333</td>\n",
       "      <td>3.226282</td>\n",
       "      <td>3.343075</td>\n",
       "      <td>3.423338</td>\n",
       "      <td>3.466724</td>\n",
       "      <td>3.501191</td>\n",
       "      <td>3.540934</td>\n",
       "    </tr>\n",
       "    <tr>\n",
       "      <th>50%</th>\n",
       "      <td>745.400000</td>\n",
       "      <td>32.200000</td>\n",
       "      <td>20.600000</td>\n",
       "      <td>3.000000</td>\n",
       "      <td>0.700000</td>\n",
       "      <td>16.600000</td>\n",
       "      <td>0.662000</td>\n",
       "      <td>0.338000</td>\n",
       "      <td>1.962000</td>\n",
       "      <td>11.750000</td>\n",
       "      <td>...</td>\n",
       "      <td>3.053850</td>\n",
       "      <td>3.357408</td>\n",
       "      <td>3.479189</td>\n",
       "      <td>3.594276</td>\n",
       "      <td>3.727541</td>\n",
       "      <td>3.837128</td>\n",
       "      <td>3.911670</td>\n",
       "      <td>3.962431</td>\n",
       "      <td>3.993187</td>\n",
       "      <td>4.025891</td>\n",
       "    </tr>\n",
       "    <tr>\n",
       "      <th>75%</th>\n",
       "      <td>846.800000</td>\n",
       "      <td>48.400000</td>\n",
       "      <td>30.900000</td>\n",
       "      <td>14.000000</td>\n",
       "      <td>3.800000</td>\n",
       "      <td>27.100000</td>\n",
       "      <td>0.782000</td>\n",
       "      <td>0.494000</td>\n",
       "      <td>3.597000</td>\n",
       "      <td>19.200000</td>\n",
       "      <td>...</td>\n",
       "      <td>3.518400</td>\n",
       "      <td>3.863781</td>\n",
       "      <td>3.979476</td>\n",
       "      <td>4.098824</td>\n",
       "      <td>4.242260</td>\n",
       "      <td>4.338381</td>\n",
       "      <td>4.404271</td>\n",
       "      <td>4.451794</td>\n",
       "      <td>4.485863</td>\n",
       "      <td>4.515721</td>\n",
       "    </tr>\n",
       "    <tr>\n",
       "      <th>max</th>\n",
       "      <td>1351.000000</td>\n",
       "      <td>224.000000</td>\n",
       "      <td>166.500000</td>\n",
       "      <td>260.000000</td>\n",
       "      <td>75.900000</td>\n",
       "      <td>238.900000</td>\n",
       "      <td>0.983000</td>\n",
       "      <td>0.973000</td>\n",
       "      <td>56.241000</td>\n",
       "      <td>169.200000</td>\n",
       "      <td>...</td>\n",
       "      <td>5.951124</td>\n",
       "      <td>6.342189</td>\n",
       "      <td>6.295218</td>\n",
       "      <td>6.360213</td>\n",
       "      <td>6.355036</td>\n",
       "      <td>6.513549</td>\n",
       "      <td>6.436161</td>\n",
       "      <td>6.460252</td>\n",
       "      <td>6.431813</td>\n",
       "      <td>6.482541</td>\n",
       "    </tr>\n",
       "  </tbody>\n",
       "</table>\n",
       "<p>8 rows × 39 columns</p>\n",
       "</div>"
      ],
      "text/plain": [
       "            mean_rr          SDNN         SDANN          NN50         pNN50  \\\n",
       "count  24932.000000  24932.000000  24932.000000  24932.000000  24932.000000   \n",
       "mean     762.752467     38.811427     24.998853     15.434141      4.427683   \n",
       "std      138.508934     25.324197     16.306258     29.152626      9.069856   \n",
       "min      418.900000      2.900000      1.600000      0.000000      0.000000   \n",
       "25%      659.900000     21.500000     14.100000      0.000000      0.000000   \n",
       "50%      745.400000     32.200000     20.600000      3.000000      0.700000   \n",
       "75%      846.800000     48.400000     30.900000     14.000000      3.800000   \n",
       "max     1351.000000    224.000000    166.500000    260.000000     75.900000   \n",
       "\n",
       "              RMSSD           nLF           nHF          LFHF           SD1  \\\n",
       "count  24932.000000  24932.000000  24932.000000  24932.000000  24932.000000   \n",
       "mean      22.273712      0.629895      0.370105      2.761248     15.770817   \n",
       "std       17.466006      0.192470      0.192470      2.666554     12.369477   \n",
       "min        2.500000      0.027000      0.017000      0.028000      1.800000   \n",
       "25%       11.100000      0.506000      0.218000      1.024750      7.900000   \n",
       "50%       16.600000      0.662000      0.338000      1.962000     11.750000   \n",
       "75%       27.100000      0.782000      0.494000      3.597000     19.200000   \n",
       "max      238.900000      0.983000      0.973000     56.241000    169.200000   \n",
       "\n",
       "           ...           Entropy1      Entropy2      Entropy3      Entropy4  \\\n",
       "count      ...       24932.000000  24932.000000  24932.000000  24932.000000   \n",
       "mean       ...           3.134663      3.401855      3.504165      3.610449   \n",
       "std        ...           0.629509      0.699878      0.702476      0.714156   \n",
       "min        ...           1.514071      1.407686      1.238901      1.134970   \n",
       "25%        ...           2.674102      2.903266      3.007499      3.097333   \n",
       "50%        ...           3.053850      3.357408      3.479189      3.594276   \n",
       "75%        ...           3.518400      3.863781      3.979476      4.098824   \n",
       "max        ...           5.951124      6.342189      6.295218      6.360213   \n",
       "\n",
       "           Entropy5      Entropy6      Entropy7      Entropy8      Entropy9  \\\n",
       "count  24932.000000  24932.000000  24932.000000  24932.000000  24932.000000   \n",
       "mean       3.741673      3.840686      3.910112      3.955276      3.987818   \n",
       "std        0.720487      0.713850      0.712500      0.711778      0.710766   \n",
       "min        1.392400      1.171442      1.095795      1.368693      1.023037   \n",
       "25%        3.226282      3.343075      3.423338      3.466724      3.501191   \n",
       "50%        3.727541      3.837128      3.911670      3.962431      3.993187   \n",
       "75%        4.242260      4.338381      4.404271      4.451794      4.485863   \n",
       "max        6.355036      6.513549      6.436161      6.460252      6.431813   \n",
       "\n",
       "          Entropy10  \n",
       "count  24932.000000  \n",
       "mean       4.022240  \n",
       "std        0.707031  \n",
       "min        1.059047  \n",
       "25%        3.540934  \n",
       "50%        4.025891  \n",
       "75%        4.515721  \n",
       "max        6.482541  \n",
       "\n",
       "[8 rows x 39 columns]"
      ]
     },
     "execution_count": 6,
     "metadata": {},
     "output_type": "execute_result"
    }
   ],
   "source": [
    "print('Statistical analysis:')\n",
    "data.describe()"
   ]
  },
  {
   "cell_type": "markdown",
   "metadata": {},
   "source": [
    "### Splitting Data into Train, Validation & Test Sets\n",
    "I split the 24932 instances into Training, Validation and Testing partitions according to 70:15:15 proportion."
   ]
  },
  {
   "cell_type": "code",
   "execution_count": 7,
   "metadata": {},
   "outputs": [],
   "source": [
    "train, val, test = np.split(data.sample(frac=1), [int(0.7*len(data)), int(0.85*len(data))]) # 70/15/15 split\n",
    "X_train, Y_train = train.iloc[:, :-1], train['DPN']\n",
    "X_val, Y_val = val.iloc[:, :-1], val['DPN']\n",
    "X_test, Y_test = test.iloc[:, :-1], test['DPN']\n",
    "\n",
    "## Declaring Sensitivity array and Specificity array for recording model performance summarization\n",
    "senArray = [] # for only val\n",
    "specArray = [] # for only val"
   ]
  },
  {
   "cell_type": "markdown",
   "metadata": {},
   "source": [
    "# Decision Tree Classification\n",
    "___\n",
    "In this part, I'll try out with decision tree models for classification.\n",
    "\n",
    "## Setting Hyperparameters: Experiment with \"max_depth\" parameter\n",
    "For training the models I needed to set a hyperparameters: max_depth. These parameters have to be set such that we can avoid overfitting our model.\n",
    "We fit decision trees of different maximum depths (from 2 to 50) to the training set and plot their respective accuracies when applied to the training and validation sets."
   ]
  },
  {
   "cell_type": "code",
   "execution_count": 8,
   "metadata": {},
   "outputs": [
    {
     "data": {
      "text/plain": [
       "Text(0, 0.5, 'Accuracy')"
      ]
     },
     "execution_count": 8,
     "metadata": {},
     "output_type": "execute_result"
    },
    {
     "data": {
      "image/png": "[encoded data removed]",
      "text/plain": [
       "<Figure size 432x288 with 1 Axes>"
      ]
     },
     "metadata": {
      "needs_background": "light"
     },
     "output_type": "display_data"
    }
   ],
   "source": [
    "from sklearn import tree\n",
    "from sklearn.metrics import accuracy_score\n",
    "\n",
    "#########################################\n",
    "# Model fitting and evaluation\n",
    "#########################################\n",
    "\n",
    "maxdepths = [2,3,4,5,6,7,8,9,10,15,20,25,30,35,40,45,50]\n",
    "\n",
    "trainAcc = np.zeros(len(maxdepths))\n",
    "valAcc = np.zeros(len(maxdepths))\n",
    "\n",
    "index = 0\n",
    "for depth in maxdepths:\n",
    "    clf = tree.DecisionTreeClassifier(max_depth=depth)\n",
    "    clf = clf.fit(X_train, Y_train)\n",
    "    Y_predTrain = clf.predict(X_train)\n",
    "    Y_predVal = clf.predict(X_val)\n",
    "    trainAcc[index] = accuracy_score(Y_train, Y_predTrain)\n",
    "    valAcc[index] = accuracy_score(Y_val, Y_predVal)\n",
    "    index += 1\n",
    "    \n",
    "#########################################\n",
    "# Plot of training and test accuracies\n",
    "#########################################\n",
    "    \n",
    "plt.plot(maxdepths,trainAcc,'ro-',maxdepths,valAcc,'bv--')\n",
    "plt.legend(['Training Accuracy','Validation Accuracy'])\n",
    "plt.xlabel('Max depth')\n",
    "plt.ylabel('Accuracy')"
   ]
  },
  {
   "cell_type": "markdown",
   "metadata": {},
   "source": [
    "#### Note:\n",
    "Model starts overfitting after max_depth crosses 5 approximately.  \n",
    "Thus we set this parameter to 5."
   ]
  },
  {
   "cell_type": "markdown",
   "metadata": {},
   "source": [
    "## Training Finalized Decision Tree\n",
    "With max_depth set to 5 and max_leaf_nodes set to 15 we train our final decision tree model and show the performace below."
   ]
  },
  {
   "cell_type": "code",
   "execution_count": 9,
   "metadata": {},
   "outputs": [],
   "source": [
    "#### Train model ####\n",
    "# clf = tree.DecisionTreeClassifier(max_depth=5, max_leaf_nodes=100, min_samples_split=100)\n",
    "clf = tree.DecisionTreeClassifier(max_depth=5)\n",
    "clf = clf.fit(X_train, Y_train)\n"
   ]
  },
  {
   "cell_type": "markdown",
   "metadata": {},
   "source": [
    "### Visualizing Model:\n",
    "The model is saved as \"DPN_tree.pdf\" file. Please open it to see the induced tree."
   ]
  },
  {
   "cell_type": "code",
   "execution_count": 10,
   "metadata": {},
   "outputs": [
    {
     "name": "stdout",
     "output_type": "stream",
     "text": [
      "For better image: please check the pdf: \"DPN_tree.pdf\"\n"
     ]
    }
   ],
   "source": [
    "## Visual\n",
    "dot_data = tree.export_graphviz(clf, out_file=None,\n",
    "                                feature_names=X_train.columns,\n",
    "                                filled=True, rounded=True,\n",
    "                                special_characters=True,\n",
    "                                class_names=['negative', 'positive'])\n",
    "\n",
    "#### Display Results ####\n",
    "import pydotplus \n",
    "from IPython.display import Image\n",
    "\n",
    "graph = pydotplus.graph_from_dot_data(dot_data) \n",
    "Image(graph.create_png())\n",
    "\n",
    "graph = graphviz.Source(dot_data)\n",
    "graph.render(\"DPN_tree\")\n",
    "print('For better image: please check the pdf: \"DPN_tree.pdf\"')\n"
   ]
  },
  {
   "cell_type": "markdown",
   "metadata": {},
   "source": [
    "### Model Performance Analysis\n",
    "Now I calculated the training and validation performance of the model in terms of Sensitivity and Specificity."
   ]
  },
  {
   "cell_type": "code",
   "execution_count": 11,
   "metadata": {},
   "outputs": [
    {
     "name": "stdout",
     "output_type": "stream",
     "text": [
      "For Training Dataset\n",
      "Sensitivity 0.6682785299806576\n",
      "Specificity 0.5911764705882353\n",
      "\n",
      "\n",
      "For Validation Dataset\n",
      "Sensitivity 0.6437093275488069\n",
      "Specificity 0.5891350210970464\n"
     ]
    }
   ],
   "source": [
    "## Performance Analysis\n",
    "Y_predTrain = clf.predict(X_train)\n",
    "tn, fp, fn, tp = confusion_matrix(Y_train, Y_predTrain, labels=['Negative', 'Positive']).ravel()\n",
    "print('For Training Dataset')\n",
    "print('Sensitivity', tp/(tp+fn))\n",
    "print('Specificity', tn/(tn+fp))\n",
    "\n",
    "#### Validate model ####\n",
    "Y_predVal = clf.predict(X_val)\n",
    "tn, fp, fn, tp = confusion_matrix(Y_val, Y_predVal, labels=['Negative', 'Positive']).ravel()\n",
    "print('\\n\\nFor Validation Dataset')\n",
    "print('Sensitivity', tp/(tp+fn))\n",
    "print('Specificity', tn/(tn+fp))\n",
    "\n",
    "# Saving Performance parameters\n",
    "senArray.append(tp/(tp+fn))\n",
    "specArray.append(tn/(tn+fp))"
   ]
  },
  {
   "cell_type": "markdown",
   "metadata": {},
   "source": [
    "#### Note:\n",
    "We were able to avoid overfitting almost perfectly :)"
   ]
  },
  {
   "cell_type": "markdown",
   "metadata": {},
   "source": [
    "# Ensemble Learners\n",
    "____\n",
    "For ensemble learners I tried out with:\n",
    "1. Random Forest\n",
    "2. Bagging\n",
    "3. AdaBoost\n",
    "\n",
    "### Hyperparameters\n",
    "* numBaseClassifiers = 500\n",
    "* maxdepth = 10\n",
    "\n",
    "### Training"
   ]
  },
  {
   "cell_type": "code",
   "execution_count": 12,
   "metadata": {},
   "outputs": [],
   "source": [
    "from sklearn import ensemble\n",
    "from sklearn.tree import DecisionTreeClassifier\n",
    "\n",
    "numBaseClassifiers = 500\n",
    "maxdepth = 5\n",
    "trainAcc = []\n",
    "valAcc = []\n",
    "trainSen = [] # Sensitivity\n",
    "trainSpec = [] # Specificity\n",
    "valSen = []\n",
    "valSpec = []\n",
    "\n",
    "# Training Random Forest\n",
    "clf = ensemble.RandomForestClassifier(n_estimators=numBaseClassifiers, n_jobs=-1)\n",
    "clf.fit(X_train, Y_train)\n",
    "Y_predTrain = clf.predict(X_train)\n",
    "Y_predVal = clf.predict(X_val)\n",
    "trainAcc.append(accuracy_score(Y_train, Y_predTrain))\n",
    "valAcc.append(accuracy_score(Y_val, Y_predVal))\n",
    "tn, fp, fn, tp = confusion_matrix(Y_train, Y_predTrain, labels=['Negative', 'Positive']).ravel()\n",
    "trainSen.append(tp/(tp+fn)); trainSpec.append(tn/(tn+fp));\n",
    "tn, fp, fn, tp = confusion_matrix(Y_val, Y_predVal, labels=['Negative', 'Positive']).ravel()\n",
    "valSen.append(tp / (tp + fn)); valSpec.append(tn / (tn + fp));\n",
    "# Saving Performance parameters\n",
    "senArray.append(tp/(tp+fn))\n",
    "specArray.append(tn/(tn+fp))\n",
    "\n",
    "\n",
    "# Training using Bagging\n",
    "clf = ensemble.BaggingClassifier(DecisionTreeClassifier(max_depth=maxdepth),n_estimators=numBaseClassifiers, n_jobs=-1)\n",
    "clf.fit(X_train, Y_train)\n",
    "Y_predTrain = clf.predict(X_train)\n",
    "Y_predVal = clf.predict(X_val)\n",
    "trainAcc.append(accuracy_score(Y_train, Y_predTrain))\n",
    "valAcc.append(accuracy_score(Y_val, Y_predVal))\n",
    "tn, fp, fn, tp = confusion_matrix(Y_train, Y_predTrain, labels=['Negative', 'Positive']).ravel()\n",
    "trainSen.append(tp/(tp+fn)); trainSpec.append(tn/(tn+fp));\n",
    "tn, fp, fn, tp = confusion_matrix(Y_val, Y_predVal, labels=['Negative', 'Positive']).ravel()\n",
    "valSen.append(tp / (tp + fn)); valSpec.append(tn / (tn + fp));\n",
    "# Saving Performance parameters\n",
    "senArray.append(tp/(tp+fn))\n",
    "specArray.append(tn/(tn+fp))\n",
    "\n",
    "\n",
    "# Training using AdaBoost\n",
    "clf = ensemble.AdaBoostClassifier(DecisionTreeClassifier(max_depth=maxdepth),n_estimators=numBaseClassifiers)\n",
    "clf.fit(X_train, Y_train)\n",
    "Y_predTrain = clf.predict(X_train)\n",
    "Y_predVal = clf.predict(X_val)\n",
    "trainAcc.append(accuracy_score(Y_train, Y_predTrain))\n",
    "valAcc.append(accuracy_score(Y_val, Y_predVal))\n",
    "tn, fp, fn, tp = confusion_matrix(Y_train, Y_predTrain, labels=['Negative', 'Positive']).ravel()\n",
    "trainSen.append(tp/(tp+fn)); trainSpec.append(tn/(tn+fp));\n",
    "tn, fp, fn, tp = confusion_matrix(Y_val, Y_predVal, labels=['Negative', 'Positive']).ravel()\n",
    "valSen.append(tp / (tp + fn)); valSpec.append(tn / (tn + fp));\n",
    "# Saving Performance parameters\n",
    "senArray.append(tp/(tp+fn))\n",
    "specArray.append(tn/(tn+fp))"
   ]
  },
  {
   "cell_type": "markdown",
   "metadata": {},
   "source": [
    "### Visualizing Performance"
   ]
  },
  {
   "cell_type": "code",
   "execution_count": 13,
   "metadata": {},
   "outputs": [
    {
     "name": "stdout",
     "output_type": "stream",
     "text": [
      "\n",
      "\n",
      "\n",
      "Training Data\n",
      "trainSen [1.0, 0.6865328820116054, 1.0]\n",
      "trainSpec [1.0, 0.6095860566448802, 1.0]\n",
      "\n",
      "\n",
      "Val Data\n",
      "valSen [0.6133405639913232, 0.6702819956616052, 0.5802603036876356]\n",
      "valSpec [0.7262658227848101, 0.5954641350210971, 0.6329113924050633]\n",
      "Done\n"
     ]
    },
    {
     "data": {
      "image/png": "[encoded data removed]",
      "text/plain": [
       "<Figure size 864x432 with 2 Axes>"
      ]
     },
     "metadata": {
      "needs_background": "light"
     },
     "output_type": "display_data"
    },
    {
     "data": {
      "image/png": "[encoded data removed]",
      "text/plain": [
       "<Figure size 864x432 with 2 Axes>"
      ]
     },
     "metadata": {
      "needs_background": "light"
     },
     "output_type": "display_data"
    },
    {
     "data": {
      "image/png": "[encoded data removed]",
      "text/plain": [
       "<Figure size 864x432 with 2 Axes>"
      ]
     },
     "metadata": {
      "needs_background": "light"
     },
     "output_type": "display_data"
    }
   ],
   "source": [
    "methods = ['Random Forest', 'Bagging', 'AdaBoost']\n",
    "\n",
    "# Accuracy Plots\n",
    "fig, (ax1, ax2) = plt.subplots(1, 2, figsize=(12,6))\n",
    "ax1.bar([1.5,2.5,3.5], trainAcc)\n",
    "ax1.set_xticks([1.5,2.5,3.5])\n",
    "ax1.set_xticklabels(methods)\n",
    "ax2.bar([1.5,2.5,3.5], valAcc)\n",
    "ax2.set_xticks([1.5,2.5,3.5])\n",
    "ax2.set_xticklabels(methods)\n",
    "ax1.set_ylabel('Accuracy')\n",
    "ax2.set_ylabel('Accuracy')\n",
    "ax1.set_title('Training')\n",
    "ax2.set_title('Validation')\n",
    "ax1.set_ylim([0, 1])\n",
    "ax2.set_ylim([0, 1])\n",
    "\n",
    "# Sensitivity Plots\n",
    "fig, (ax1, ax2) = plt.subplots(1, 2, figsize=(12,6))\n",
    "ax1.bar([1.5,2.5,3.5], trainSen)\n",
    "ax1.set_xticks([1.5,2.5,3.5])\n",
    "ax1.set_xticklabels(methods)\n",
    "ax2.bar([1.5,2.5,3.5], valSen)\n",
    "ax2.set_xticks([1.5,2.5,3.5])\n",
    "ax2.set_xticklabels(methods)\n",
    "ax1.set_ylabel('Sensitivity')\n",
    "ax2.set_ylabel('Sensitivity')\n",
    "ax1.set_title('Training')\n",
    "ax2.set_title('Validation')\n",
    "ax1.set_ylim([0, 1])\n",
    "ax2.set_ylim([0, 1])\n",
    "\n",
    "# Specificity Plots\n",
    "fig, (ax1, ax2) = plt.subplots(1, 2, figsize=(12,6))\n",
    "ax1.bar([1.5,2.5,3.5], trainSpec)\n",
    "ax1.set_xticks([1.5,2.5,3.5])\n",
    "ax1.set_xticklabels(methods)\n",
    "ax2.bar([1.5,2.5,3.5], valSpec)\n",
    "ax2.set_xticks([1.5,2.5,3.5])\n",
    "ax2.set_xticklabels(methods)\n",
    "ax1.set_ylabel('Specificity')\n",
    "ax2.set_ylabel('Specificity')\n",
    "ax1.set_title('Training')\n",
    "ax2.set_title('Validation')\n",
    "ax1.set_ylim([0, 1])\n",
    "ax2.set_ylim([0, 1])\n",
    "\n",
    "print('\\n\\n')\n",
    "print('Training Data')\n",
    "print('trainSen', trainSen)\n",
    "print('trainSpec', trainSpec)\n",
    "print('\\n')\n",
    "print('Val Data')\n",
    "print('valSen', valSen)\n",
    "print('valSpec', valSpec)\n",
    "print('Done')"
   ]
  },
  {
   "cell_type": "markdown",
   "metadata": {},
   "source": [
    "# SVM Classifier\n",
    "___\n",
    "## Hyperparameters Setting\n",
    "For SVM I used the a Gaussian radial basis function kernel. I varied the Penalty parameter C of the error term, from 0.02 to 10 to see the effect and choose the best C for my problem."
   ]
  },
  {
   "cell_type": "code",
   "execution_count": 14,
   "metadata": {},
   "outputs": [
    {
     "data": {
      "text/plain": [
       "Text(0, 0.5, 'Accuracy')"
      ]
     },
     "execution_count": 14,
     "metadata": {},
     "output_type": "execute_result"
    },
    {
     "data": {
      "image/png": "[encoded data removed]",
      "text/plain": [
       "<Figure size 432x288 with 1 Axes>"
      ]
     },
     "metadata": {
      "needs_background": "light"
     },
     "output_type": "display_data"
    }
   ],
   "source": [
    "from sklearn.svm import SVC\n",
    "\n",
    "C = [0.2, 0.5, 0.8, 1, 5, 10]\n",
    "SVMtrainAcc = []\n",
    "SVMvalAcc = []\n",
    "\n",
    "for param in C:\n",
    "    clf = SVC(C=param,kernel='rbf',gamma='auto')\n",
    "    clf.fit(X_train, Y_train)\n",
    "    Y_predTrain = clf.predict(X_train)\n",
    "    Y_predVal = clf.predict(X_val)\n",
    "    SVMtrainAcc.append(accuracy_score(Y_train, Y_predTrain))\n",
    "    SVMvalAcc.append(accuracy_score(Y_val, Y_predVal))\n",
    "\n",
    "plt.plot(C, SVMtrainAcc, 'ro-', C, SVMvalAcc,'bv--')\n",
    "plt.legend(['Training Accuracy','Validation Accuracy'])\n",
    "plt.xlabel('C')\n",
    "plt.xscale('log')\n",
    "plt.ylabel('Accuracy')"
   ]
  },
  {
   "cell_type": "markdown",
   "metadata": {},
   "source": [
    "#### Note:\n",
    "For C=1 we get the higheset accuracy. So, for SVM I select this value for my final SVM model."
   ]
  },
  {
   "cell_type": "markdown",
   "metadata": {},
   "source": [
    "## Training Finalized SVM and Performance Analysis\n",
    "Now setting C= and kernel=\"rbf\" I train my final mode and present performnce values."
   ]
  },
  {
   "cell_type": "code",
   "execution_count": 15,
   "metadata": {},
   "outputs": [
    {
     "name": "stdout",
     "output_type": "stream",
     "text": [
      "For Training Dataset\n",
      "Sensitivity 0.8852756286266924\n",
      "Specificity 0.8947712418300654\n",
      "\n",
      "\n",
      "For Validation Dataset\n",
      "Sensitivity 0.46203904555314534\n",
      "Specificity 0.7378691983122363\n"
     ]
    }
   ],
   "source": [
    "clf = SVC(C=1,kernel='rbf',gamma='auto')\n",
    "clf.fit(X_train, Y_train)\n",
    "\n",
    "Y_predTrain = clf.predict(X_train)\n",
    "Y_predVal = clf.predict(X_val)\n",
    "\n",
    "## Performance Analysis\n",
    "Y_predTrain = clf.predict(X_train)\n",
    "tn, fp, fn, tp = confusion_matrix(Y_train, Y_predTrain, labels=['Negative', 'Positive']).ravel()\n",
    "print('For Training Dataset')\n",
    "print('Sensitivity', tp/(tp+fn))\n",
    "print('Specificity', tn/(tn+fp))\n",
    "\n",
    "#### Validate model ####\n",
    "Y_predVal = clf.predict(X_val)\n",
    "tn, fp, fn, tp = confusion_matrix(Y_val, Y_predVal, labels=['Negative', 'Positive']).ravel()\n",
    "print('\\n\\nFor Validation Dataset')\n",
    "print('Sensitivity', tp/(tp+fn))\n",
    "print('Specificity', tn/(tn+fp))\n",
    "\n",
    "# Saving Performance parameters\n",
    "senArray.append(tp/(tp+fn))\n",
    "specArray.append(tn/(tn+fp))"
   ]
  },
  {
   "cell_type": "markdown",
   "metadata": {},
   "source": [
    "# Performance Summary:\n",
    "In this notebook, I tried out with Decision Tree, Random Forest, Bagging, Boosing and SVM classifers. Following is  the summary of their performance. It can be observed that, the Bagging method prodeces the highes Sensitivity of 67% while the SVM method produces the highest specificity of 73%."
   ]
  },
  {
   "cell_type": "code",
   "execution_count": 54,
   "metadata": {},
   "outputs": [
    {
     "name": "stdout",
     "output_type": "stream",
     "text": [
      "Metric         Decision Tree    Random Forest    Bagging    Boosting       SVM\n",
      "-----------  ---------------  ---------------  ---------  ----------  --------\n",
      "Sensitivity         0.643709         0.613341   0.670282    0.58026   0.462039\n",
      "Specificity         0.589135         0.726266   0.595464    0.632911  0.737869\n"
     ]
    }
   ],
   "source": [
    "methods = ['Decision Tree', 'Random Forest', 'Bagging', 'Boosting', 'SVM']\n",
    "from tabulate import tabulate\n",
    "print(tabulate([['Sensitivity']+senArray, ['Specificity']+specArray], headers=['Metric']+methods))"
   ]
  }
 ],
 "metadata": {
  "kernelspec": {
   "display_name": "Python 3",
   "language": "python",
   "name": "python3"
  },
  "language_info": {
   "codemirror_mode": {
    "name": "ipython",
    "version": 3
   },
   "file_extension": ".py",
   "mimetype": "text/x-python",
   "name": "python",
   "nbconvert_exporter": "python",
   "pygments_lexer": "ipython3",
   "version": "3.5.2"
  }
 },
 "nbformat": 4,
 "nbformat_minor": 1
}
